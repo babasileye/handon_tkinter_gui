{
 "cells": [
  {
   "cell_type": "code",
   "execution_count": 3,
   "id": "b516753c",
   "metadata": {},
   "outputs": [],
   "source": [
    "from moving_disk import MovingDisk\n",
    "\n",
    "moving_disk=MovingDisk()"
   ]
  },
  {
   "cell_type": "markdown",
   "id": "20e5e18f",
   "metadata": {},
   "source": [
    "# "
   ]
  },
  {
   "cell_type": "code",
   "execution_count": null,
   "id": "fa66bcea",
   "metadata": {},
   "outputs": [],
   "source": [
    "from moving_disk import MovingDisk\n",
    "\n",
    "moving_disk=MovingDisk()"
   ]
  }
 ],
 "metadata": {
  "kernelspec": {
   "display_name": "Python 3",
   "language": "python",
   "name": "python3"
  },
  "language_info": {
   "codemirror_mode": {
    "name": "ipython",
    "version": 3
   },
   "file_extension": ".py",
   "mimetype": "text/x-python",
   "name": "python",
   "nbconvert_exporter": "python",
   "pygments_lexer": "ipython3",
   "version": "3.10.4"
  }
 },
 "nbformat": 4,
 "nbformat_minor": 5
}
